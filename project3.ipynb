{
 "cells": [
  {
   "cell_type": "code",
   "execution_count": 2,
   "metadata": {},
   "outputs": [],
   "source": [
    "import plotly\n",
    "import datetime\n",
    "import numpy as np\n",
    "import pandas as pd\n",
    "import plotly.graph_objs as go\n",
    "import plotly.plotly as py\n",
    "\n",
    "from ipywidgets import widgets"
   ]
  },
  {
   "cell_type": "code",
   "execution_count": 3,
   "metadata": {},
   "outputs": [],
   "source": [
    "asndf = pd.read_csv(\n",
    "    'abuse-with-asn-and-geo.csv')\n",
    "ccdf = pd.read_csv('asn-cc-mapping.csv', sep=\"|\")\n",
    "\n",
    "ccdf = ccdf.drop(columns=['CC'])\n",
    "\n",
    "df = asndf.merge(ccdf, on='ASN')\n",
    "\n",
    "df['ASN'] = df['ASN'].astype(str)\n",
    "df = df.sort_values(by=['abusePercent'])"
   ]
  },
  {
   "cell_type": "code",
   "execution_count": 40,
   "metadata": {},
   "outputs": [],
   "source": [
    "countries = list(df['CC'].unique())\n",
    "countries.sort()\n",
    "countries.insert(0, \"All\")\n",
    "\n",
    "origin = widgets.Dropdown(\n",
    "    options=countries,\n",
    "    value='All',\n",
    "    description='Country Code:',\n",
    ")\n",
    "\n",
    "\n",
    "firstdf = df.nlargest(50, 'abusePercent')\n",
    "# Assign an emptry figure widget with two traces\n",
    "trace1 = go.Bar(x=firstdf['ASN'].astype(str), y=firstdf['abusePercent'])\n",
    "\n",
    "layout = go.Layout(\n",
    "                        title=dict(\n",
    "                            text='Top 50 ASNs by Abuse Percentage'\n",
    "                        ),\n",
    "                        xaxis=dict(\n",
    "                            type=\"category\",\n",
    "                            title='AS Number'\n",
    "                        ),\n",
    "                        yaxis=dict(\n",
    "                            title='% of Abusive IPs',\n",
    "                            categoryorder = \"category ascending\"\n",
    "                        ),\n",
    "                        barmode='overlay'\n",
    "                    )\n",
    "\n",
    "tabletrace = go.Table(\n",
    "    header=dict(values=list(['ASN', 'AS Name']),\n",
    "                fill = dict(color='#C2D4FF'),\n",
    "                align = ['left'] * 5),\n",
    "    cells=dict(values=[firstdf.ASN, firstdf.AS_Name],\n",
    "               fill = dict(color='#F5F8FF'),\n",
    "               align = ['left'] * 5))\n",
    "\n",
    "layout2 = go.Layout(\n",
    "                        title=dict(\n",
    "                            text='ASN to AS Name Mapping'\n",
    "                        ))\n",
    "\n",
    "g = go.FigureWidget(data=[trace1], layout=layout)\n",
    "h = go.FigureWidget(data=[tabletrace], layout=layout2)"
   ]
  },
  {
   "cell_type": "code",
   "execution_count": 41,
   "metadata": {},
   "outputs": [],
   "source": [
    "def validate():\n",
    "    if origin.value in df['CC'].unique():\n",
    "        return True\n",
    "    if origin.value == \"All\":\n",
    "        return True\n",
    "    else:\n",
    "        return False\n",
    "\n",
    "\n",
    "def response(change):\n",
    "    if validate():\n",
    "        if origin.value == \"All\":\n",
    "            temp_df = df\n",
    "        else:\n",
    "            filter_list = df['CC'] == origin.value\n",
    "            temp_df = df[filter_list]\n",
    "        top50df = temp_df.nlargest(50, 'abusePercent')\n",
    "        x1 = top50df['ASN'].astype(str)\n",
    "        y1 = top50df['abusePercent']\n",
    "        z1 = top50df['AS_Name']\n",
    " \n",
    "#        bar = g.data[0]\n",
    "#        bar.x = x1\n",
    "#        bar.y = y1\n",
    "        \n",
    "        table = h.data[0]\n",
    "        table = [x1, z1]\n",
    "        with g.batch_update():\n",
    "            g.data[0].x = x1\n",
    "            g.data[0].y = y1\n",
    "\n",
    "        with h.batch_update():\n",
    "            h.data[0].cells.values = [top50df.ASN, top50df.AS_Name]\n",
    "            \n",
    "        g.layout = layout\n",
    "\n",
    "origin.observe(response, names=\"value\")\n"
   ]
  },
  {
   "cell_type": "code",
   "execution_count": 42,
   "metadata": {
    "scrolled": false
   },
   "outputs": [
    {
     "data": {
      "application/vnd.jupyter.widget-view+json": {
       "model_id": "7c56b24aecf44a0681df548f2c6cb0df",
       "version_major": 2,
       "version_minor": 0
      },
      "text/plain": [
       "VBox(children=(HBox(children=(Dropdown(description='Country Code:', options=('All', 'AD', 'AE', 'AF', 'AG', 'A…"
      ]
     },
     "metadata": {},
     "output_type": "display_data"
    }
   ],
   "source": [
    "container2 = widgets.HBox([origin])\n",
    "widgets.VBox([container2,\n",
    "              g, h])"
   ]
  },
  {
   "cell_type": "code",
   "execution_count": 37,
   "metadata": {},
   "outputs": [
    {
     "ename": "AttributeError",
     "evalue": "'tuple' object has no attribute 'cells'",
     "output_type": "error",
     "traceback": [
      "\u001b[0;31m---------------------------------------------------------------------------\u001b[0m",
      "\u001b[0;31mAttributeError\u001b[0m                            Traceback (most recent call last)",
      "\u001b[0;32m<ipython-input-37-d4c7ea109d1d>\u001b[0m in \u001b[0;36m<module>\u001b[0;34m\u001b[0m\n\u001b[0;32m----> 1\u001b[0;31m \u001b[0mh\u001b[0m\u001b[0;34m.\u001b[0m\u001b[0mdata\u001b[0m\u001b[0;34m.\u001b[0m\u001b[0mcells\u001b[0m\u001b[0;34m.\u001b[0m\u001b[0mvalues\u001b[0m\u001b[0;34m\u001b[0m\u001b[0;34m\u001b[0m\u001b[0m\n\u001b[0m\u001b[1;32m      2\u001b[0m \u001b[0;34m\u001b[0m\u001b[0m\n",
      "\u001b[0;31mAttributeError\u001b[0m: 'tuple' object has no attribute 'cells'"
     ]
    }
   ],
   "source": [
    "h.data.cells.values\n",
    "\n"
   ]
  },
  {
   "cell_type": "code",
   "execution_count": 27,
   "metadata": {},
   "outputs": [
    {
     "ename": "NameError",
     "evalue": "name 'top50df' is not defined",
     "output_type": "error",
     "traceback": [
      "\u001b[0;31m---------------------------------------------------------------------------\u001b[0m",
      "\u001b[0;31mNameError\u001b[0m                                 Traceback (most recent call last)",
      "\u001b[0;32m<ipython-input-27-adc5a915fc64>\u001b[0m in \u001b[0;36m<module>\u001b[0;34m\u001b[0m\n\u001b[0;32m----> 1\u001b[0;31m \u001b[0mtop50df\u001b[0m\u001b[0;34m\u001b[0m\u001b[0;34m\u001b[0m\u001b[0m\n\u001b[0m",
      "\u001b[0;31mNameError\u001b[0m: name 'top50df' is not defined"
     ]
    }
   ],
   "source": [
    "top50df"
   ]
  },
  {
   "cell_type": "code",
   "execution_count": null,
   "metadata": {},
   "outputs": [],
   "source": []
  }
 ],
 "metadata": {
  "kernelspec": {
   "display_name": "Python 3",
   "language": "python",
   "name": "python3"
  },
  "language_info": {
   "codemirror_mode": {
    "name": "ipython",
    "version": 3
   },
   "file_extension": ".py",
   "mimetype": "text/x-python",
   "name": "python",
   "nbconvert_exporter": "python",
   "pygments_lexer": "ipython3",
   "version": "3.7.3"
  }
 },
 "nbformat": 4,
 "nbformat_minor": 2
}
